{
  "nbformat": 4,
  "nbformat_minor": 0,
  "metadata": {
    "colab": {
      "provenance": []
    },
    "kernelspec": {
      "name": "python3",
      "display_name": "Python 3"
    },
    "language_info": {
      "name": "python"
    }
  },
  "cells": [
    {
      "cell_type": "code",
      "source": [
        "import numpy as np\n",
        "import matplotlib.pyplot as plt"
      ],
      "metadata": {
        "id": "0dGuQrN0ZaMK"
      },
      "execution_count": 1,
      "outputs": []
    },
    {
      "cell_type": "code",
      "source": [
        "# function approximation by Ax^4 + ... + Ex^0\n",
        "\n",
        "left_b = 1\n",
        "right_b = 37\n",
        "t = np.linspace(left_b, right_b, 5)\n",
        "\n",
        "def f(x):\n",
        "  return np.sin(x/5) * np.exp(x/10) + 5*np.exp(-x/2)\n",
        "\n",
        "y = []\n",
        "for el in t:\n",
        "  y.append(f(el))\n",
        "\n",
        "y"
      ],
      "metadata": {
        "colab": {
          "base_uri": "https://localhost:8080/"
        },
        "id": "P-GbHH7paD7h",
        "outputId": "55837ab3-510a-4a47-fd8e-3b79222a50e2"
      },
      "execution_count": 2,
      "outputs": [
        {
          "output_type": "execute_result",
          "data": {
            "text/plain": [
              "[3.252216865271419,\n",
              " 2.5054164070002463,\n",
              " -4.0904430133692005,\n",
              " -10.38095272054477,\n",
              " 36.35031992833673]"
            ]
          },
          "metadata": {},
          "execution_count": 2
        }
      ]
    },
    {
      "cell_type": "code",
      "source": [
        "A = np.zeros((5, 5))\n",
        "for j in range(5):\n",
        "  for i in range(5):\n",
        "    A[j][i] = t[j]**(4 - i)\n",
        "\n",
        "real = np.zeros((5, 1))\n",
        "for i in range(5):\n",
        "  real[i] = y[i]"
      ],
      "metadata": {
        "id": "kbHbFZaUefjI"
      },
      "execution_count": 3,
      "outputs": []
    },
    {
      "cell_type": "code",
      "source": [
        "A"
      ],
      "metadata": {
        "colab": {
          "base_uri": "https://localhost:8080/"
        },
        "id": "PcOJ1F29fOuS",
        "outputId": "04cc0707-d841-464f-a176-189fbc7be2a2"
      },
      "execution_count": 4,
      "outputs": [
        {
          "output_type": "execute_result",
          "data": {
            "text/plain": [
              "array([[1.000000e+00, 1.000000e+00, 1.000000e+00, 1.000000e+00,\n",
              "        1.000000e+00],\n",
              "       [1.000000e+04, 1.000000e+03, 1.000000e+02, 1.000000e+01,\n",
              "        1.000000e+00],\n",
              "       [1.303210e+05, 6.859000e+03, 3.610000e+02, 1.900000e+01,\n",
              "        1.000000e+00],\n",
              "       [6.146560e+05, 2.195200e+04, 7.840000e+02, 2.800000e+01,\n",
              "        1.000000e+00],\n",
              "       [1.874161e+06, 5.065300e+04, 1.369000e+03, 3.700000e+01,\n",
              "        1.000000e+00]])"
            ]
          },
          "metadata": {},
          "execution_count": 4
        }
      ]
    },
    {
      "cell_type": "code",
      "source": [
        "a = np.linalg.solve(A, real)\n",
        "\n",
        "def g(x):\n",
        "  return a[0]*x**4 + a[1]*x**3 + a[2]*x**2 + a[3]*x**1 + a[4]\n",
        "\n",
        "y1 = []\n",
        "for el in t:\n",
        "  y1.append(g(el))\n",
        "y1"
      ],
      "metadata": {
        "colab": {
          "base_uri": "https://localhost:8080/"
        },
        "id": "QmCL_23mgPTc",
        "outputId": "3f39ef64-38e0-4e13-f050-dd0b64de1b72"
      },
      "execution_count": 5,
      "outputs": [
        {
          "output_type": "execute_result",
          "data": {
            "text/plain": [
              "[array([3.25221687]),\n",
              " array([2.50541641]),\n",
              " array([-4.09044301]),\n",
              " array([-10.38095272]),\n",
              " array([36.35031993])]"
            ]
          },
          "metadata": {},
          "execution_count": 5
        }
      ]
    },
    {
      "cell_type": "code",
      "source": [
        "A.shape"
      ],
      "metadata": {
        "colab": {
          "base_uri": "https://localhost:8080/"
        },
        "id": "cj_wHMfThQhp",
        "outputId": "70b8ab4d-0bf1-4340-8f1f-8ffa99763446"
      },
      "execution_count": 6,
      "outputs": [
        {
          "output_type": "execute_result",
          "data": {
            "text/plain": [
              "(5, 5)"
            ]
          },
          "metadata": {},
          "execution_count": 6
        }
      ]
    },
    {
      "cell_type": "code",
      "source": [
        "t1 = np.linspace(left_b, right_b, 50)\n",
        "y2 = g(t1)\n",
        "y3 = f(t1)\n",
        "error = np.abs(y3 - y2)\n",
        "error"
      ],
      "metadata": {
        "colab": {
          "base_uri": "https://localhost:8080/"
        },
        "id": "OvQw5XngkHWu",
        "outputId": "db2a22c0-c592-45d1-860e-aa855e0689f7"
      },
      "execution_count": 7,
      "outputs": [
        {
          "output_type": "execute_result",
          "data": {
            "text/plain": [
              "array([0.00000000e+00, 2.38991323e-01, 3.44823403e-01, 3.77165923e-01,\n",
              "       3.71574863e-01, 3.47848507e-01, 3.15800290e-01, 2.79231859e-01,\n",
              "       2.38647933e-01, 1.93087263e-01, 1.41328342e-01, 8.26487727e-02,\n",
              "       1.72622565e-02, 5.34804460e-02, 1.27065856e-01, 1.99923935e-01,\n",
              "       2.67634010e-01, 3.25205751e-01, 3.67415030e-01, 3.89177050e-01,\n",
              "       3.85940344e-01, 3.54085578e-01, 2.91312860e-01, 1.97000681e-01,\n",
              "       7.25189469e-02, 7.85220645e-02, 2.50105455e-01, 4.33742956e-01,\n",
              "       6.18530230e-01, 7.91340039e-01, 9.37169782e-01, 1.03965798e+00,\n",
              "       1.08178157e+00, 1.04674256e+00, 9.19048266e-01, 6.85784584e-01,\n",
              "       3.38075912e-01, 1.27281093e-01, 7.06029734e-01, 1.38453896e+00,\n",
              "       2.13779804e+00, 2.92736387e+00, 3.69931315e+00, 4.38225942e+00,\n",
              "       4.88550279e+00, 5.09738712e+00, 4.88394502e+00, 4.08791562e+00,\n",
              "       2.52822251e+00, 4.26325641e-14])"
            ]
          },
          "metadata": {},
          "execution_count": 7
        }
      ]
    },
    {
      "cell_type": "code",
      "source": [
        "plt.figure(figsize=(7,7))\n",
        "plt.subplot(2, 1, 1)\n",
        "plt.title(' f(x), g(x)', size = 15)\n",
        "plt.xlabel('x', size = 15)\n",
        "plt.ylabel('f(x)', size = 15)\n",
        "plt.grid()\n",
        "plt.plot(t1, y3, label = 'Base function', color = 'green')\n",
        "plt.legend()\n",
        "plt.subplot(2, 1, 2)\n",
        "plt.xlabel('x', size = 15)\n",
        "plt.ylabel('g(x)', size = 15)\n",
        "plt.grid()\n",
        "plt.plot(t1, y2, label = 'Polynom', color = 'red')\n",
        "plt.legend()"
      ],
      "metadata": {
        "colab": {
          "base_uri": "https://localhost:8080/",
          "height": 666
        },
        "id": "jfHVYMubkalS",
        "outputId": "91461c12-5263-42c3-ffae-d39c0bb0838f"
      },
      "execution_count": 8,
      "outputs": [
        {
          "output_type": "execute_result",
          "data": {
            "text/plain": [
              "<matplotlib.legend.Legend at 0x7fc8c3fdb670>"
            ]
          },
          "metadata": {},
          "execution_count": 8
        },
        {
          "output_type": "display_data",
          "data": {
            "text/plain": [
              "<Figure size 700x700 with 2 Axes>"
            ],
            "image/png": "[encoded data removed]"
          },
          "metadata": {}
        }
      ]
    },
    {
      "cell_type": "code",
      "source": [
        "error =np.abs(y2 - y3)\n",
        "index = 0\n",
        "print(f'Max error = {np.max(error)}')\n",
        "for i in range(len(t1)):\n",
        "  if error[i] == np.max(error):\n",
        "    index = i\n",
        "    break\n",
        "print(f'Max error = {np.max(error)} in x = {t1[index]}')"
      ],
      "metadata": {
        "colab": {
          "base_uri": "https://localhost:8080/"
        },
        "id": "IfvuumofWL3o",
        "outputId": "0adc2a01-e214-4802-a483-a7946d9abe63"
      },
      "execution_count": 12,
      "outputs": [
        {
          "output_type": "stream",
          "name": "stdout",
          "text": [
            "Max error = 5.09738711544866\n",
            "Max error = 5.09738711544866 in x = 34.06122448979592\n"
          ]
        }
      ]
    }
  ]
}